{
 "cells": [
  {
   "cell_type": "markdown",
   "id": "181d9db5",
   "metadata": {},
   "source": [
    "### 请先查看README.md，生成ubt_data"
   ]
  },
  {
   "cell_type": "code",
   "execution_count": 10,
   "id": "bd2564ad",
   "metadata": {},
   "outputs": [],
   "source": [
    "import pickle\n",
    "import networkx as nx\n",
    "\n",
    "with open(\"ubt_data/modules_info.pkl\", \"rb\") as f:\n",
    "    modules_info = pickle.load(f)"
   ]
  },
  {
   "cell_type": "code",
   "execution_count": 11,
   "id": "2016cc81",
   "metadata": {},
   "outputs": [
    {
     "data": {
      "text/plain": [
       "'D:\\\\UnrealEngine\\\\Engine\\\\Plugins\\\\Compositing\\\\OpenColorIO\\\\Source\\\\OpenColorIO'"
      ]
     },
     "execution_count": 11,
     "metadata": {},
     "output_type": "execute_result"
    }
   ],
   "source": [
    "modules_info['OpenColorIO']['Directory']"
   ]
  },
  {
   "cell_type": "code",
   "execution_count": 12,
   "id": "9c68c620",
   "metadata": {},
   "outputs": [],
   "source": [
    "import os\n",
    "import shutil\n",
    "import logging\n",
    "import json\n",
    "import uuid\n",
    "import matplotlib.pyplot as plt\n",
    "\n",
    "# Info logger that logs to a file\n",
    "info_logger = logging.getLogger('info_logger')\n",
    "info_logger.setLevel(logging.INFO)\n",
    "info_handler = logging.FileHandler('logs/filesystem.log')\n",
    "info_handler.setFormatter(logging.Formatter('%(asctime)s - %(levelname)s - %(message)s'))\n",
    "info_logger.addHandler(info_handler)\n",
    "\n",
    "# Error logger that logs both to console and a file\n",
    "error_logger = logging.getLogger('error_logger')\n",
    "error_logger.setLevel(logging.ERROR)\n",
    "error_handler = logging.FileHandler('logs/error.log')\n",
    "error_handler.setFormatter(logging.Formatter('%(asctime)s - %(levelname)s - %(message)s'))\n",
    "error_logger.addHandler(error_handler)\n",
    "console_handler = logging.StreamHandler()\n",
    "console_handler.setFormatter(logging.Formatter('%(asctime)s - %(levelname)s - %(message)s'))\n",
    "error_logger.addHandler(console_handler)\n",
    "\n",
    "class FileSystem:\n",
    "\n",
    "    def __init__(self, trash_dir='trash', trash_log_file='logs/trash_log.json'):\n",
    "        self.trash_dir = trash_dir\n",
    "        self.trash_log_file = trash_log_file\n",
    "\n",
    "        if os.path.exists(trash_log_file): \n",
    "            with open(trash_log_file, 'r') as f:\n",
    "                self.trash = json.load(f)\n",
    "        else:\n",
    "            self.trash = {}\n",
    "\n",
    "    def delete(self, nodes):\n",
    "        for node in nodes:\n",
    "            try:\n",
    "                dir_path = modules_info[node][\"Directory\"]\n",
    "            except KeyError:\n",
    "                error_logger.error(f'No directory found for node: {node}')\n",
    "                continue \n",
    "            if os.path.exists(dir_path):\n",
    "                unique_name = f\"{os.path.basename(dir_path)}_{uuid.uuid4().hex}\"\n",
    "                trash_path = os.path.join(self.trash_dir, unique_name)\n",
    "                shutil.move(dir_path, trash_path)\n",
    "                self.trash[node] = {\n",
    "                    \"dir_path\": dir_path,\n",
    "                    \"trash_path\": trash_path,\n",
    "                    \"original_name\": os.path.basename(dir_path)\n",
    "                }\n",
    "                info_logger.info(f'Deleted directory: {dir_path}, moved to: {trash_path}')\n",
    "        self.save_trash_log()\n",
    "\n",
    "    def restore(self):\n",
    "        if not self.trash:\n",
    "            info_logger.info('No directories to restore.')\n",
    "            return\n",
    "\n",
    "        # Restore the latest directory.\n",
    "        node, paths = list(self.trash.items())[-1]\n",
    "        self.restore_specific(node)\n",
    "\n",
    "    def restore_specific(self, node):\n",
    "        paths_info = self.trash.get(node)\n",
    "        if not paths_info:\n",
    "            error_logger.error(f'No directory info found for node: {node}')\n",
    "            return\n",
    "\n",
    "        dir_path = paths_info[\"dir_path\"]\n",
    "        trash_path = paths_info[\"trash_path\"]\n",
    "\n",
    "        # Check if dir_path already exists\n",
    "        if os.path.exists(dir_path):\n",
    "            error_logger.error(f'Target directory already exists: {dir_path}. Restoration skipped for node: {node}')\n",
    "            return\n",
    "\n",
    "        if os.path.exists(trash_path):\n",
    "            try:\n",
    "                # 在恢复时使用原始名称\n",
    "                original_name = self.trash[node][\"original_name\"]\n",
    "                restore_path = os.path.join(os.path.dirname(dir_path), original_name)\n",
    "                shutil.move(trash_path, restore_path)\n",
    "                info_logger.info(f'Restored directory: {dir_path} from: {trash_path}')\n",
    "                del self.trash[node]\n",
    "                self.save_trash_log()\n",
    "            except shutil.Error as e:\n",
    "                error_logger.error(f'Error restoring directory: {e}')\n",
    "    \n",
    "    def check_existence_and_print(self):\n",
    "        existing_dirs = {}\n",
    "        for node, paths_info in self.trash.items():\n",
    "            dir_path = paths_info[\"dir_path\"]\n",
    "            if os.path.exists(dir_path):\n",
    "                print(f\"Node: {node}, Dir Path: {dir_path}\")\n",
    "                existing_dirs[node] = dir_path\n",
    "        return existing_dirs\n",
    "    \n",
    "    def save_trash_log(self):\n",
    "        with open(self.trash_log_file, 'w') as f:\n",
    "            json.dump(self.trash, f)\n",
    "            \n",
    "fs = FileSystem()"
   ]
  },
  {
   "cell_type": "code",
   "execution_count": 13,
   "id": "a3ca5e6b",
   "metadata": {},
   "outputs": [],
   "source": [
    "fs.delete([\"XMPP\"])"
   ]
  },
  {
   "cell_type": "code",
   "execution_count": 14,
   "id": "743ff20b",
   "metadata": {},
   "outputs": [],
   "source": [
    "fs.restore_specific('XMPP')"
   ]
  }
 ],
 "metadata": {
  "kernelspec": {
   "display_name": "Python 3 (ipykernel)",
   "language": "python",
   "name": "python3"
  },
  "language_info": {
   "codemirror_mode": {
    "name": "ipython",
    "version": 3
   },
   "file_extension": ".py",
   "mimetype": "text/x-python",
   "name": "python",
   "nbconvert_exporter": "python",
   "pygments_lexer": "ipython3",
   "version": "3.10.10"
  }
 },
 "nbformat": 4,
 "nbformat_minor": 5
}
