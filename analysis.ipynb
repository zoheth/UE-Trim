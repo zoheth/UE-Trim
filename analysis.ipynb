{
 "cells": [
  {
   "cell_type": "code",
   "execution_count": 1,
   "id": "f2219eb4",
   "metadata": {},
   "outputs": [
    {
     "name": "stdout",
     "output_type": "stream",
     "text": [
      "nodes:1115,edges:12867\n"
     ]
    }
   ],
   "source": [
    "import networkx as nx\n",
    "import pickle\n",
    "import copy\n",
    "import heapq\n",
    "\n",
    "G = nx.DiGraph()\n",
    "with open('data/graph_all.pickle', 'rb') as f:\n",
    "    G = pickle.load(f)\n",
    "modules_info={}\n",
    "with open('data/modules_info.pickle', 'rb') as f:\n",
    "    modules_info = pickle.load(f)\n",
    "\n",
    "lowercase_nodes = set(node.lower() for node in G.nodes)\n",
    "assert(len(G.nodes) == len(lowercase_nodes))\n",
    "\n",
    "print(f\"nodes:{len(G.nodes)},edges:{len(G.edges)}\")"
   ]
  },
  {
   "cell_type": "markdown",
   "id": "f0f9cfb7",
   "metadata": {},
   "source": [
    "### 第一步：寻找最大的强连通分量，形成新的图"
   ]
  },
  {
   "cell_type": "code",
   "execution_count": 2,
   "id": "c5dd5dbb",
   "metadata": {},
   "outputs": [
    {
     "name": "stdout",
     "output_type": "stream",
     "text": [
      "nodes:736,edges:1850\n"
     ]
    }
   ],
   "source": [
    "sccs = list(nx.strongly_connected_components(G))\n",
    "largest_scc = max(sccs, key=len)\n",
    "\n",
    "new_G = nx.DiGraph()\n",
    "\n",
    "for node in G.nodes:\n",
    "    if node not in largest_scc:\n",
    "        new_G.add_node(node)\n",
    "\n",
    "new_G.add_node(\"BigComponent\")\n",
    "\n",
    "for u, v in G.edges:\n",
    "    if u in largest_scc and v in largest_scc:\n",
    "        continue\n",
    "    elif u in largest_scc:\n",
    "        new_G.add_edge(\"BigComponent\", v)\n",
    "    elif v in largest_scc:\n",
    "        new_G.add_edge(u, \"BigComponent\")\n",
    "    else:\n",
    "        new_G.add_edge(u, v)\n",
    "\n",
    "old_G=G\n",
    "G=new_G\n",
    "print(f\"nodes:{len(G.nodes)},edges:{len(G.edges)}\")"
   ]
  },
  {
   "cell_type": "markdown",
   "id": "71cc58bc",
   "metadata": {},
   "source": [
    "### 第二步：破除自环与简单环，验证是否为DAG"
   ]
  },
  {
   "cell_type": "code",
   "execution_count": 3,
   "id": "45b44cab",
   "metadata": {},
   "outputs": [
    {
     "name": "stdout",
     "output_type": "stream",
     "text": [
      "self loops:249\n",
      "simple cycles:[['TextureShare', 'VirtualProduction'], ['WebBrowserTexture', 'WebBrowser']]\n",
      "nodes:736,edges:1599\n"
     ]
    }
   ],
   "source": [
    "self_loops = list(nx.selfloop_edges(G))\n",
    "print(f\"self loops:{len(self_loops)}\")\n",
    "G.remove_edges_from(self_loops)\n",
    "cycles = list(nx.simple_cycles(G))\n",
    "print(f\"simple cycles:{cycles}\")\n",
    "for cycle in cycles:\n",
    "    if len(cycle) == 1:\n",
    "        continue\n",
    "    \n",
    "    in_degrees = [G.in_degree(node) for node in cycle]\n",
    "    \n",
    "    end_node = cycle[in_degrees.index(max(in_degrees))]\n",
    "    \n",
    "    cycle_copy = cycle[:]\n",
    "    while cycle_copy[-1] != end_node:\n",
    "        cycle_copy = cycle_copy[1:] + [cycle_copy[0]]\n",
    "    \n",
    "    for i in range(len(cycle_copy) - 1):\n",
    "        if G.has_edge(cycle_copy[i + 1], cycle_copy[i]):\n",
    "            G.remove_edge(cycle_copy[i + 1], cycle_copy[i])\n",
    "print(f\"nodes:{len(G.nodes)},edges:{len(G.edges)}\")\n",
    "\n",
    "assert(nx.is_directed_acyclic_graph(G))"
   ]
  },
  {
   "cell_type": "markdown",
   "id": "96e8f183",
   "metadata": {},
   "source": [
    "### 第三步：依赖约简 构造依赖函数"
   ]
  },
  {
   "cell_type": "code",
   "execution_count": 4,
   "id": "c3dc6739",
   "metadata": {},
   "outputs": [
    {
     "name": "stdout",
     "output_type": "stream",
     "text": [
      "nodes:736,edges:921\n"
     ]
    }
   ],
   "source": [
    "H = nx.algorithms.dag.transitive_reduction(G)\n",
    "nx.write_gexf(H, \"data/graph_wpd_tr.gexf\")\n",
    "print(f\"nodes:{len(H.nodes)},edges:{len(H.edges)}\")\n",
    "\n",
    "def get_all_successors(graph, node):\n",
    "    \"\"\"获取节点的所有直接和间接依赖\"\"\"\n",
    "    seen = set()\n",
    "    stack = [node]\n",
    "    while stack:\n",
    "        node = stack.pop()\n",
    "        if node not in seen:\n",
    "            seen.add(node)\n",
    "            stack.extend(graph.successors(node))\n",
    "    return seen\n",
    "\n",
    "def get_all_predecessors(graph, node):\n",
    "    \"\"\"获取所有直接和间接依赖这个节点的节点\"\"\"\n",
    "    seen = set()\n",
    "    stack = [node]\n",
    "    while stack:\n",
    "        node = stack.pop()\n",
    "        if node not in seen:\n",
    "            seen.add(node)\n",
    "            stack.extend(graph.predecessors(node))\n",
    "    return seen"
   ]
  },
  {
   "cell_type": "markdown",
   "id": "ba473824",
   "metadata": {},
   "source": [
    "### （可选）：生成拓扑排序后的文件与BigComponent信息文件"
   ]
  },
  {
   "cell_type": "code",
   "execution_count": 5,
   "id": "e2c0b9cd",
   "metadata": {},
   "outputs": [],
   "source": [
    "import heapq\n",
    "\n",
    "def inverse_topological_sort(graph):\n",
    "    # 初始化优先队列\n",
    "    queue = []\n",
    "    for node in graph.nodes:\n",
    "        predecessors = get_all_predecessors(graph, node)\n",
    "        successors = get_all_successors(graph, node)\n",
    "        heapq.heappush(queue, (-len(predecessors), node, len(predecessors)-1, len(successors)-1))\n",
    "\n",
    "    # 进行拓扑排序\n",
    "    while queue:\n",
    "        _, node, preds, succs = heapq.heappop(queue)\n",
    "        yield node, preds, succs\n",
    "\n",
    "def desc(node):\n",
    "    if node==\"BigComponent\": return node\n",
    "    if \"Description\" in modules_info[node] and modules_info[node][\"Description\"]:\n",
    "        return f'{node}({modules_info[node][\"Description\"]})'\n",
    "    return node\n",
    "        \n",
    "def write_to_file(graph, file_path):\n",
    "    with open(file_path, \"w\") as f:\n",
    "        for node, preds, succs in inverse_topological_sort(graph):\n",
    "            f.write(f\"{node}, pred:{preds}, succs:{succs}\\n\")\n",
    "\n",
    "write_to_file(H, 'data/topology_all.txt')\n",
    "\n",
    "\n",
    "node_list = largest_scc\n",
    "data = [(node, old_G.in_degree(node), old_G.out_degree(node)) for node in node_list]\n",
    "data.sort(key=lambda x: x[1], reverse=True)\n",
    "\n",
    "with open('data/BigComponent.txt', 'w') as f:\n",
    "    for node, in_degree, out_degree in data:\n",
    "        f.write(f\"{desc(node)}, In-degree: {in_degree}, Out-degree: {out_degree}\\n\")"
   ]
  },
  {
   "cell_type": "markdown",
   "id": "59e818f8",
   "metadata": {},
   "source": [
    "### 查看依赖&删除模块/恢复模块"
   ]
  },
  {
   "cell_type": "code",
   "execution_count": 5,
   "id": "dd2d4e3c",
   "metadata": {},
   "outputs": [],
   "source": [
    "import os\n",
    "import shutil\n",
    "import logging\n",
    "import json\n",
    "import matplotlib.pyplot as plt\n",
    "\n",
    "# Info logger that logs to a file\n",
    "info_logger = logging.getLogger('info_logger')\n",
    "info_logger.setLevel(logging.INFO)\n",
    "info_handler = logging.FileHandler('logs/filesystem.log')\n",
    "info_handler.setFormatter(logging.Formatter('%(asctime)s - %(levelname)s - %(message)s'))\n",
    "info_logger.addHandler(info_handler)\n",
    "\n",
    "# Error logger that logs both to console and a file\n",
    "error_logger = logging.getLogger('error_logger')\n",
    "error_logger.setLevel(logging.ERROR)\n",
    "error_handler = logging.FileHandler('logs/error.log')\n",
    "error_handler.setFormatter(logging.Formatter('%(asctime)s - %(levelname)s - %(message)s'))\n",
    "error_logger.addHandler(error_handler)\n",
    "console_handler = logging.StreamHandler()\n",
    "console_handler.setFormatter(logging.Formatter('%(asctime)s - %(levelname)s - %(message)s'))\n",
    "error_logger.addHandler(console_handler)\n",
    "\n",
    "class FileSystem:\n",
    "\n",
    "    def __init__(self, trash_dir='trash', trash_log_file='logs/trash_log.json'):\n",
    "        self.trash_dir = trash_dir\n",
    "        self.trash_log_file = trash_log_file\n",
    "\n",
    "        if os.path.exists(trash_log_file): \n",
    "            with open(trash_log_file, 'r') as f:\n",
    "                self.trash = json.load(f)\n",
    "        else:\n",
    "            self.trash = {}\n",
    "\n",
    "    def delete(self, nodes):\n",
    "        for node in nodes:\n",
    "            try:\n",
    "                dir_path = modules_info[node][\"Dir\"]\n",
    "            except KeyError:\n",
    "                error_logger.error(f'No directory found for node: {node}')\n",
    "                continue \n",
    "            if os.path.exists(dir_path):\n",
    "                trash_path = os.path.join(self.trash_dir, os.path.basename(dir_path))\n",
    "                shutil.move(dir_path, trash_path)\n",
    "                self.trash[node] = {\n",
    "                    \"dir_path\": dir_path,\n",
    "                    \"trash_path\": trash_path\n",
    "                }\n",
    "                info_logger.info(f'Deleted directory: {dir_path}, moved to: {trash_path}')\n",
    "        self.save_trash_log()\n",
    "\n",
    "    def restore(self):\n",
    "        if not self.trash:\n",
    "            info_logger.info('No directories to restore.')\n",
    "            return\n",
    "\n",
    "        # Restore the latest directory.\n",
    "        node, paths = list(self.trash.items())[-1]\n",
    "        self.restore_specific(node)\n",
    "\n",
    "    def restore_specific(self, node):\n",
    "        paths_info = self.trash.get(node)\n",
    "        if not paths_info:\n",
    "            error_logger.error(f'No directory info found for node: {node}')\n",
    "            return\n",
    "\n",
    "        dir_path = paths_info[\"dir_path\"]\n",
    "        trash_path = paths_info[\"trash_path\"]\n",
    "\n",
    "        # Check if dir_path already exists\n",
    "        if os.path.exists(dir_path):\n",
    "            error_logger.error(f'Target directory already exists: {dir_path}. Restoration skipped for node: {node}')\n",
    "            return\n",
    "\n",
    "        if os.path.exists(trash_path):\n",
    "            try:\n",
    "                shutil.move(trash_path, dir_path)\n",
    "                info_logger.info(f'Restored directory: {dir_path} from: {trash_path}')\n",
    "                del self.trash[node]\n",
    "                self.save_trash_log()\n",
    "            except shutil.Error as e:\n",
    "                error_logger.error(f'Error restoring directory: {e}')\n",
    "    \n",
    "    def check_existence_and_print(self):\n",
    "        existing_dirs = {}\n",
    "        for node, paths_info in self.trash.items():\n",
    "            dir_path = paths_info[\"dir_path\"]\n",
    "            if os.path.exists(dir_path):\n",
    "                print(f\"Node: {node}, Dir Path: {dir_path}\")\n",
    "                existing_dirs[node] = dir_path\n",
    "        return existing_dirs\n",
    "    \n",
    "    def save_trash_log(self):\n",
    "        with open(self.trash_log_file, 'w') as f:\n",
    "            json.dump(self.trash, f)\n",
    "            \n",
    "fs = FileSystem()\n",
    "\n",
    "def observe(node):\n",
    "    nodes=get_all_predecessors(H,node)\n",
    "    HH=H.subgraph(nodes)\n",
    "    pos = nx.spring_layout(HH)\n",
    "    node_colors = [\"#0080f0\" for node in HH.nodes()]\n",
    "    node_colors[list(HH.nodes()).index(node)] = 'red'\n",
    "    nx.draw(HH, pos, with_labels=True, node_size=150,node_color=node_colors,font_size=8)\n",
    "    plt.show()\n",
    "    print(\",\".join(nodes))\n",
    "    return nodes"
   ]
  },
  {
   "cell_type": "markdown",
   "id": "b86135a5",
   "metadata": {},
   "source": [
    "### 准备就绪！"
   ]
  },
  {
   "cell_type": "code",
   "execution_count": 6,
   "id": "8e1c39cf",
   "metadata": {},
   "outputs": [
    {
     "data": {
      "image/png": "[encoded data removed]",
      "text/plain": [
       "<Figure size 640x480 with 1 Axes>"
      ]
     },
     "metadata": {},
     "output_type": "display_data"
    },
    {
     "name": "stdout",
     "output_type": "stream",
     "text": [
      "EOSShared,OnlineServicesEOSGS,SocketSubsystemEOS,OnlineSubsystemEOS,OnlineServicesEOS,EOSVoiceChat,EOSSDK\n"
     ]
    }
   ],
   "source": [
    "cur_node=\"EOSSDK\"\n",
    "nodes=observe(cur_node)"
   ]
  },
  {
   "cell_type": "code",
   "execution_count": 8,
   "id": "bf5b1b7d",
   "metadata": {},
   "outputs": [],
   "source": [
    "# fs.delete(nodes)"
   ]
  },
  {
   "cell_type": "code",
   "execution_count": 8,
   "id": "de085297",
   "metadata": {},
   "outputs": [],
   "source": [
    "# fs.restore()"
   ]
  },
  {
   "cell_type": "code",
   "execution_count": 6,
   "id": "04dcc0b7",
   "metadata": {},
   "outputs": [
    {
     "data": {
      "text/plain": [
       "38"
      ]
     },
     "execution_count": 6,
     "metadata": {},
     "output_type": "execute_result"
    }
   ],
   "source": [
    "with open(\"D0825.txt\", \"r\") as file:\n",
    "    nodes = [line.strip() for line in file]\n",
    "\n",
    "len(nodes)"
   ]
  },
  {
   "cell_type": "code",
   "execution_count": 7,
   "id": "6b82d2db",
   "metadata": {},
   "outputs": [],
   "source": [
    "fs.delete(nodes)"
   ]
  },
  {
   "cell_type": "code",
   "execution_count": 10,
   "id": "45b404c5",
   "metadata": {},
   "outputs": [],
   "source": [
    "fs.restore_specific(\"Online\")"
   ]
  },
  {
   "cell_type": "code",
   "execution_count": 8,
   "id": "0e2bf33f",
   "metadata": {},
   "outputs": [],
   "source": [
    "fs.delete([\"DatasmithGLTFImporter\",\"Editor\"])"
   ]
  },
  {
   "cell_type": "code",
   "execution_count": 8,
   "id": "8e10c0b1",
   "metadata": {},
   "outputs": [
    {
     "name": "stdout",
     "output_type": "stream",
     "text": [
      "Node: ANGLE, Dir Path: E:\\UnrealEngine-5.1.0-release\\Engine\\Source\\ThirdParty\\ANGLE\n",
      "Node: ActorPalette, Dir Path: E:\\UnrealEngine-5.1.0-release\\Engine\\Plugins\\Experimental\\ActorPalette\n",
      "Node: ActorSequence, Dir Path: E:\\UnrealEngine-5.1.0-release\\Engine\\Plugins\\MovieScene\\ActorSequence\n",
      "Node: Adjust, Dir Path: E:\\UnrealEngine-5.1.0-release\\Engine\\Plugins\\Runtime\\Analytics\\Adjust\n",
      "Node: AjaMedia, Dir Path: E:\\UnrealEngine-5.1.0-release\\Engine\\Plugins\\Media\\AjaMedia\n",
      "Node: AlembicHairImporter, Dir Path: E:\\UnrealEngine-5.1.0-release\\Engine\\Plugins\\Importers\\AlembicHairImporter\n",
      "Node: AndroidCamera, Dir Path: E:\\UnrealEngine-5.1.0-release\\Engine\\Plugins\\Media\\AndroidCamera\n",
      "Node: AndroidDeviceProfileSelector, Dir Path: E:\\UnrealEngine-5.1.0-release\\Engine\\Plugins\\Runtime\\AndroidDeviceProfileSelector\n",
      "Node: AndroidFileServer, Dir Path: E:\\UnrealEngine-5.1.0-release\\Engine\\Plugins\\Runtime\\AndroidFileServer\n",
      "Node: AndroidMedia, Dir Path: E:\\UnrealEngine-5.1.0-release\\Engine\\Plugins\\Media\\AndroidMedia\n",
      "Node: AndroidMoviePlayer, Dir Path: E:\\UnrealEngine-5.1.0-release\\Engine\\Plugins\\Runtime\\AndroidMoviePlayer\n",
      "Node: AnimToTexture, Dir Path: E:\\UnrealEngine-5.1.0-release\\Engine\\Plugins\\Animation\\AnimToTexture\n",
      "Node: AnimationLocomotionLibrary, Dir Path: E:\\UnrealEngine-5.1.0-release\\Engine\\Plugins\\Animation\\AnimationLocomotionLibrary\n",
      "Node: AnimationSharing, Dir Path: E:\\UnrealEngine-5.1.0-release\\Engine\\Plugins\\Developer\\AnimationSharing\n",
      "Node: AppleMoviePlayer, Dir Path: E:\\UnrealEngine-5.1.0-release\\Engine\\Plugins\\Runtime\\AppleMoviePlayer\n",
      "Node: AppleProResMedia, Dir Path: E:\\UnrealEngine-5.1.0-release\\Engine\\Plugins\\Media\\AppleProResMedia\n",
      "Node: AutomationDriverTests, Dir Path: E:\\UnrealEngine-5.1.0-release\\Engine\\Plugins\\Tests\\AutomationDriverTests\n",
      "Node: AvfMedia, Dir Path: E:\\UnrealEngine-5.1.0-release\\Engine\\Plugins\\Media\\AvfMedia\n",
      "Node: AvidDNxMedia, Dir Path: E:\\UnrealEngine-5.1.0-release\\Engine\\Plugins\\Media\\AvidDNxMedia\n",
      "Node: AxFImporter, Dir Path: E:\\UnrealEngine-5.1.0-release\\Engine\\Plugins\\Enterprise\\AxFImporter\n",
      "Node: AzureSpatialAnchorsForARCore, Dir Path: E:\\UnrealEngine-5.1.0-release\\Engine\\Plugins\\Runtime\\AR\\AzureSpatialAnchorsForARCore\n",
      "Node: AzureSpatialAnchorsForARKit, Dir Path: E:\\UnrealEngine-5.1.0-release\\Engine\\Plugins\\Runtime\\AR\\AzureSpatialAnchorsForARKit\n",
      "Node: BenchmarkTool, Dir Path: E:\\UnrealEngine-5.1.0-release\\Engine\\Source\\Programs\\BenchmarkTool\n",
      "Node: BlackmagicMedia, Dir Path: E:\\UnrealEngine-5.1.0-release\\Engine\\Plugins\\Media\\BlackmagicMedia\n",
      "Node: BlankProgram, Dir Path: E:\\UnrealEngine-5.1.0-release\\Engine\\Source\\Programs\\BlankProgram\n",
      "Node: BlueprintHeaderView, Dir Path: E:\\UnrealEngine-5.1.0-release\\Engine\\Plugins\\Editor\\BlueprintHeaderView\n",
      "Node: BlueprintStats, Dir Path: E:\\UnrealEngine-5.1.0-release\\Engine\\Plugins\\Experimental\\BlueprintStats\n",
      "Node: Bridge, Dir Path: E:\\UnrealEngine-5.1.0-release\\Engine\\Plugins\\Bridge\n",
      "Node: CLionSourceCodeAccess, Dir Path: E:\\UnrealEngine-5.1.0-release\\Engine\\Plugins\\Developer\\CLionSourceCodeAccess\n",
      "Node: CableComponent, Dir Path: E:\\UnrealEngine-5.1.0-release\\Engine\\Plugins\\Runtime\\CableComponent\n",
      "Node: CameraCalibration, Dir Path: E:\\UnrealEngine-5.1.0-release\\Engine\\Plugins\\VirtualProduction\\CameraCalibration\n",
      "Node: CascadeToNiagaraConverter, Dir Path: E:\\UnrealEngine-5.1.0-release\\Engine\\Plugins\\FX\\CascadeToNiagaraConverter\n",
      "Node: ChaosClothEditor, Dir Path: E:\\UnrealEngine-5.1.0-release\\Engine\\Plugins\\Experimental\\ChaosClothEditor\n",
      "Node: ChaosEditor, Dir Path: E:\\UnrealEngine-5.1.0-release\\Engine\\Plugins\\Experimental\\ChaosEditor\n",
      "Node: ChaosNiagara, Dir Path: E:\\UnrealEngine-5.1.0-release\\Engine\\Plugins\\Experimental\\ChaosNiagara\n",
      "Node: ChaosSolverPlugin, Dir Path: E:\\UnrealEngine-5.1.0-release\\Engine\\Plugins\\Experimental\\ChaosSolverPlugin\n",
      "Node: ChaosVehiclesPlugin, Dir Path: E:\\UnrealEngine-5.1.0-release\\Engine\\Plugins\\Experimental\\ChaosVehiclesPlugin\n",
      "Node: ChaosVisualDebugger, Dir Path: E:\\UnrealEngine-5.1.0-release\\Engine\\Source\\Programs\\ChaosVisualDebugger\n",
      "Node: CharacterAI, Dir Path: E:\\UnrealEngine-5.1.0-release\\Engine\\Plugins\\Experimental\\CharacterAI\n",
      "Node: CinematicPrestreaming, Dir Path: E:\\UnrealEngine-5.1.0-release\\Engine\\Plugins\\Experimental\\CinematicPrestreaming\n",
      "Node: CodeEditor, Dir Path: E:\\UnrealEngine-5.1.0-release\\Engine\\Plugins\\Experimental\\CodeEditor\n",
      "Node: CodeLiteSourceCodeAccess, Dir Path: E:\\UnrealEngine-5.1.0-release\\Engine\\Plugins\\Developer\\CodeLiteSourceCodeAccess\n",
      "Node: CodeView, Dir Path: E:\\UnrealEngine-5.1.0-release\\Engine\\Plugins\\Experimental\\CodeView\n",
      "Node: CommonConversation, Dir Path: E:\\UnrealEngine-5.1.0-release\\Engine\\Plugins\\Experimental\\CommonConversation\n",
      "Node: CompositePlane, Dir Path: E:\\UnrealEngine-5.1.0-release\\Engine\\Plugins\\VirtualProduction\\CompositePlane\n",
      "Node: ContentBrowserClassDataSource, Dir Path: E:\\UnrealEngine-5.1.0-release\\Engine\\Plugins\\Editor\\ContentBrowser\\ContentBrowserClassDataSource\n",
      "Node: ControlRigSpline, Dir Path: E:\\UnrealEngine-5.1.0-release\\Engine\\Plugins\\Animation\\ControlRigSpline\n",
      "Node: CryptoKeys, Dir Path: E:\\UnrealEngine-5.1.0-release\\Engine\\Plugins\\Editor\\CryptoKeys\n",
      "Node: CurveExpression, Dir Path: E:\\UnrealEngine-5.1.0-release\\Engine\\Plugins\\Experimental\\Animation\\CurveExpression\n",
      "Node: DMXDisplayCluster, Dir Path: E:\\UnrealEngine-5.1.0-release\\Engine\\Plugins\\VirtualProduction\\DMX\\DMXDisplayCluster\n",
      "Node: DMXFixtures, Dir Path: E:\\UnrealEngine-5.1.0-release\\Engine\\Plugins\\VirtualProduction\\DMX\\DMXFixtures\n",
      "Node: DMXPixelMapping, Dir Path: E:\\UnrealEngine-5.1.0-release\\Engine\\Plugins\\VirtualProduction\\DMX\\DMXPixelMapping\n",
      "Node: DatasmithC4DImporter, Dir Path: E:\\UnrealEngine-5.1.0-release\\Engine\\Plugins\\Enterprise\\DatasmithC4DImporter\n",
      "Node: DatasmithFBXImporter, Dir Path: E:\\UnrealEngine-5.1.0-release\\Engine\\Plugins\\Enterprise\\DatasmithFBXImporter\n",
      "Node: DatasmithIFCImporter, Dir Path: E:\\UnrealEngine-5.1.0-release\\Engine\\Plugins\\Enterprise\\DatasmithIFCImporter\n",
      "Node: DatasmithInterchange, Dir Path: E:\\UnrealEngine-5.1.0-release\\Engine\\Plugins\\Experimental\\Enterprise\\DatasmithInterchange\n",
      "Node: DatasmithMVR, Dir Path: E:\\UnrealEngine-5.1.0-release\\Engine\\Plugins\\VirtualProduction\\DMX\\DatasmithMVR\n",
      "Node: DatasmithRuntime, Dir Path: E:\\UnrealEngine-5.1.0-release\\Engine\\Plugins\\Experimental\\Enterprise\\DatasmithRuntime\n",
      "Node: DirectMLDefault, Dir Path: E:\\UnrealEngine-5.1.0-release\\Engine\\Source\\ThirdParty\\DirectMLDefault\n",
      "Node: DisasterRecoveryClient, Dir Path: E:\\UnrealEngine-5.1.0-release\\Engine\\Plugins\\Developer\\Concert\\ConcertApp\\DisasterRecoveryClient\n",
      "Node: DisplayClusterLaunch, Dir Path: E:\\UnrealEngine-5.1.0-release\\Engine\\Plugins\\Editor\\DisplayClusterLaunch\n",
      "Node: EditorDebugTools, Dir Path: E:\\UnrealEngine-5.1.0-release\\Engine\\Plugins\\Editor\\EditorDebugTools\n",
      "Node: EditorTests, Dir Path: E:\\UnrealEngine-5.1.0-release\\Engine\\Plugins\\Tests\\EditorTests\n",
      "Node: Enterprise, Dir Path: E:\\UnrealEngine-5.1.0-release\\Engine\\Source\\Programs\\Enterprise\n",
      "Node: EpicWebHelper, Dir Path: E:\\UnrealEngine-5.1.0-release\\Engine\\Source\\Programs\\EpicWebHelper\n",
      "Node: ExampleAssetEditor, Dir Path: E:\\UnrealEngine-5.1.0-release\\Engine\\Plugins\\Experimental\\ExampleAssetEditor\n",
      "Node: ExampleCustomDataInterface, Dir Path: E:\\UnrealEngine-5.1.0-release\\Engine\\Plugins\\FX\\ExampleCustomDataInterface\n",
      "Node: ExampleDeviceProfileSelector, Dir Path: E:\\UnrealEngine-5.1.0-release\\Engine\\Plugins\\Runtime\\ExampleDeviceProfileSelector\n",
      "Node: FacialAnimation, Dir Path: E:\\UnrealEngine-5.1.0-release\\Engine\\Plugins\\Editor\\FacialAnimation\n",
      "Node: FakeIt, Dir Path: E:\\UnrealEngine-5.1.0-release\\Engine\\Source\\ThirdParty\\FakeIt\n",
      "Node: FbxAutomationTestBuilder, Dir Path: E:\\UnrealEngine-5.1.0-release\\Engine\\Plugins\\Tests\\FbxAutomationTestBuilder\n",
      "Node: FieldSystemPlugin, Dir Path: E:\\UnrealEngine-5.1.0-release\\Engine\\Plugins\\Experimental\\FieldSystemPlugin\n",
      "Node: Firebase, Dir Path: E:\\UnrealEngine-5.1.0-release\\Engine\\Plugins\\Runtime\\Firebase\n",
      "Node: FunctionalTestingEditor, Dir Path: E:\\UnrealEngine-5.1.0-release\\Engine\\Plugins\\Tests\\FunctionalTestingEditor\n",
      "Node: GLTFExporter, Dir Path: E:\\UnrealEngine-5.1.0-release\\Engine\\Plugins\\Enterprise\\GLTFExporter\n",
      "Node: GPULightmass, Dir Path: E:\\UnrealEngine-5.1.0-release\\Engine\\Plugins\\Experimental\\GPULightmass\n",
      "Node: GeometryMode, Dir Path: E:\\UnrealEngine-5.1.0-release\\Engine\\Plugins\\Editor\\GeometryMode\n",
      "Node: GitSourceControl, Dir Path: E:\\UnrealEngine-5.1.0-release\\Engine\\Plugins\\Developer\\GitSourceControl\n",
      "Node: GooglePAD, Dir Path: E:\\UnrealEngine-5.1.0-release\\Engine\\Plugins\\Runtime\\GooglePAD\n",
      "Node: GooglePlay, Dir Path: E:\\UnrealEngine-5.1.0-release\\Engine\\Source\\ThirdParty\\GooglePlay\n",
      "Node: GuidedTutorials, Dir Path: E:\\UnrealEngine-5.1.0-release\\Engine\\Plugins\\Editor\\GuidedTutorials\n",
      "Node: HAPMedia, Dir Path: E:\\UnrealEngine-5.1.0-release\\Engine\\Plugins\\Media\\HAPMedia\n",
      "Node: HairModelingToolset, Dir Path: E:\\UnrealEngine-5.1.0-release\\Engine\\Plugins\\Experimental\\HairModelingToolset\n",
      "Node: HeadlessChaos, Dir Path: E:\\UnrealEngine-5.1.0-release\\Engine\\Source\\Programs\\HeadlessChaos\n",
      "Node: HttpBlueprint, Dir Path: E:\\UnrealEngine-5.1.0-release\\Engine\\Plugins\\Web\\HttpBlueprint\n",
      "Node: IOSDeviceProfileSelector, Dir Path: E:\\UnrealEngine-5.1.0-release\\Engine\\Plugins\\Runtime\\IOSDeviceProfileSelector\n",
      "Node: IOSTapJoy, Dir Path: E:\\UnrealEngine-5.1.0-release\\Engine\\Plugins\\Runtime\\Advertising\\IOSTapJoy\n",
      "Node: ImagePlate, Dir Path: E:\\UnrealEngine-5.1.0-release\\Engine\\Plugins\\Experimental\\ImagePlate\n",
      "Node: InterchangeWorker, Dir Path: E:\\UnrealEngine-5.1.0-release\\Engine\\Source\\Programs\\InterchangeWorker\n",
      "Node: KDevelopSourceCodeAccess, Dir Path: E:\\UnrealEngine-5.1.0-release\\Engine\\Plugins\\Developer\\KDevelopSourceCodeAccess\n",
      "Node: LensDistortion, Dir Path: E:\\UnrealEngine-5.1.0-release\\Engine\\Plugins\\Compositing\\LensDistortion\n",
      "Node: LevelSnapshots, Dir Path: E:\\UnrealEngine-5.1.0-release\\Engine\\Plugins\\VirtualProduction\\LevelSnapshots\n",
      "Node: LidarPointCloud, Dir Path: E:\\UnrealEngine-5.1.0-release\\Engine\\Plugins\\Enterprise\\LidarPointCloud\n",
      "Node: LightMixer, Dir Path: E:\\UnrealEngine-5.1.0-release\\Engine\\Plugins\\Editor\\ObjectMixer\\LightMixer\n",
      "Node: LightWeightInstancesEditor, Dir Path: E:\\UnrealEngine-5.1.0-release\\Engine\\Plugins\\LightWeightInstancesEditor\n",
      "Node: LinuxDeviceProfileSelector, Dir Path: E:\\UnrealEngine-5.1.0-release\\Engine\\Plugins\\Runtime\\LinuxDeviceProfileSelector\n",
      "Node: LiveLinkFaceImporter, Dir Path: E:\\UnrealEngine-5.1.0-release\\Engine\\Plugins\\Experimental\\LiveLinkFaceImporter\n",
      "Node: LiveLinkLens, Dir Path: E:\\UnrealEngine-5.1.0-release\\Engine\\Plugins\\VirtualProduction\\LiveLinkLens\n",
      "Node: LiveLinkMasterLockit, Dir Path: E:\\UnrealEngine-5.1.0-release\\Engine\\Plugins\\VirtualProduction\\LiveLinkMasterLockit\n",
      "Node: LiveLinkPrestonMDR, Dir Path: E:\\UnrealEngine-5.1.0-release\\Engine\\Plugins\\VirtualProduction\\LiveLinkPrestonMDR\n",
      "Node: LiveLinkVRPN, Dir Path: E:\\UnrealEngine-5.1.0-release\\Engine\\Plugins\\VirtualProduction\\LiveLinkVRPN\n",
      "Node: LiveLinkXR, Dir Path: E:\\UnrealEngine-5.1.0-release\\Engine\\Plugins\\VirtualProduction\\LiveLinkXR\n",
      "Node: LowLevelTests, Dir Path: E:\\UnrealEngine-5.1.0-release\\Engine\\Source\\Programs\\LowLevelTests\n",
      "Node: LowLevelTestsRunner, Dir Path: E:\\UnrealEngine-5.1.0-release\\Engine\\Source\\Developer\\LowLevelTestsRunner\n",
      "Node: MLAdapter, Dir Path: E:\\UnrealEngine-5.1.0-release\\Engine\\Plugins\\AI\\MLAdapter\n",
      "Node: MediaPlate, Dir Path: E:\\UnrealEngine-5.1.0-release\\Engine\\Plugins\\Media\\MediaPlate\n",
      "Node: MessagingDebugger, Dir Path: E:\\UnrealEngine-5.1.0-release\\Engine\\Plugins\\Messaging\\MessagingDebugger\n",
      "Node: MixedRealityCaptureFramework, Dir Path: E:\\UnrealEngine-5.1.0-release\\Engine\\Plugins\\Runtime\\MixedRealityCaptureFramework\n",
      "Node: MobileFSR, Dir Path: E:\\UnrealEngine-5.1.0-release\\Engine\\Plugins\\Runtime\\MobileFSR\n",
      "Node: MobileLauncherProfileWizard, Dir Path: E:\\UnrealEngine-5.1.0-release\\Engine\\Plugins\\Editor\\MobileLauncherProfileWizard\n",
      "Node: MobilePatchingUtils, Dir Path: E:\\UnrealEngine-5.1.0-release\\Engine\\Plugins\\Runtime\\MobilePatchingUtils\n",
      "Node: ModelViewViewModel, Dir Path: E:\\UnrealEngine-5.1.0-release\\Engine\\Plugins\\Runtime\\ModelViewViewModel\n",
      "Node: MoviePipelineMaskRenderPass, Dir Path: E:\\UnrealEngine-5.1.0-release\\Engine\\Plugins\\MovieScene\\MoviePipelineMaskRenderPass\n",
      "Node: MultiUserTakes, Dir Path: E:\\UnrealEngine-5.1.0-release\\Engine\\Plugins\\VirtualProduction\\MultiUserTakes\n",
      "Node: Mutable, Dir Path: E:\\UnrealEngine-5.1.0-release\\Engine\\Plugins\\Experimental\\Mutable\n",
      "Node: NaniteDisplacedMesh, Dir Path: E:\\UnrealEngine-5.1.0-release\\Engine\\Plugins\\Experimental\\NaniteDisplacedMesh\n",
      "Node: NearestNeighborModel, Dir Path: E:\\UnrealEngine-5.1.0-release\\Engine\\Plugins\\Animation\\MLDeformer\\NearestNeighborModel\n",
      "Node: NetworkPredictionExtras, Dir Path: E:\\UnrealEngine-5.1.0-release\\Engine\\Plugins\\Runtime\\NetworkPredictionExtras\n",
      "Node: NeuralMorphModel, Dir Path: E:\\UnrealEngine-5.1.0-release\\Engine\\Plugins\\Animation\\MLDeformer\\NeuralMorphModel\n",
      "Node: NiagaraSimCaching, Dir Path: E:\\UnrealEngine-5.1.0-release\\Engine\\Plugins\\FX\\NiagaraSimCaching\n",
      "Node: NullSourceCodeAccess, Dir Path: E:\\UnrealEngine-5.1.0-release\\Engine\\Plugins\\Developer\\NullSourceCodeAccess\n",
      "Node: OSCModulationMixing, Dir Path: E:\\UnrealEngine-5.1.0-release\\Engine\\Plugins\\Runtime\\OSCModulationMixing\n",
      "Node: OculusAudio, Dir Path: E:\\UnrealEngine-5.1.0-release\\Engine\\Plugins\\Runtime\\Oculus\\OculusAudio\n",
      "Node: OculusVR, Dir Path: E:\\UnrealEngine-5.1.0-release\\Engine\\Plugins\\Runtime\\Oculus\\OculusVR\n",
      "Node: OnlineSubsystemAmazon, Dir Path: E:\\UnrealEngine-5.1.0-release\\Engine\\Plugins\\Online\\OnlineSubsystemAmazon\n",
      "Node: OnlineSubsystemGoogle, Dir Path: E:\\UnrealEngine-5.1.0-release\\Engine\\Plugins\\Online\\OnlineSubsystemGoogle\n",
      "Node: OnlineSubsystemOculus, Dir Path: E:\\UnrealEngine-5.1.0-release\\Engine\\Plugins\\Online\\OnlineSubsystemOculus\n",
      "Node: OptiXDenoise, Dir Path: E:\\UnrealEngine-5.1.0-release\\Engine\\Plugins\\Experimental\\OptiXDenoise\n",
      "Node: PCG, Dir Path: E:\\UnrealEngine-5.1.0-release\\Engine\\Plugins\\Experimental\\PCG\n",
      "Node: PanoramicCapture, Dir Path: E:\\UnrealEngine-5.1.0-release\\Engine\\Plugins\\Experimental\\PanoramicCapture\n",
      "Node: Paper2D, Dir Path: E:\\UnrealEngine-5.1.0-release\\Engine\\Plugins\\2D\\Paper2D\n",
      "Node: PointCloud, Dir Path: E:\\UnrealEngine-5.1.0-release\\Engine\\Plugins\\Experimental\\AR\\PointCloud\n",
      "Node: PythonAutomationTest, Dir Path: E:\\UnrealEngine-5.1.0-release\\Engine\\Plugins\\Tests\\PythonAutomationTest\n",
      "Node: RHITests, Dir Path: E:\\UnrealEngine-5.1.0-release\\Engine\\Plugins\\Tests\\RHITests\n",
      "Node: RemoteControlProtocolDMX, Dir Path: E:\\UnrealEngine-5.1.0-release\\Engine\\Plugins\\VirtualProduction\\RemoteControlProtocolDMX\n",
      "Node: RemoteControlProtocolMIDI, Dir Path: E:\\UnrealEngine-5.1.0-release\\Engine\\Plugins\\VirtualProduction\\RemoteControlProtocolMIDI\n",
      "Node: RemoteControlProtocolOSC, Dir Path: E:\\UnrealEngine-5.1.0-release\\Engine\\Plugins\\VirtualProduction\\RemoteControlProtocolOSC\n",
      "Node: RemoteControlWebInterface, Dir Path: E:\\UnrealEngine-5.1.0-release\\Engine\\Plugins\\VirtualProduction\\RemoteControlWebInterface\n",
      "Node: RenderDocPlugin, Dir Path: E:\\UnrealEngine-5.1.0-release\\Engine\\Plugins\\Developer\\RenderDocPlugin\n",
      "Node: RenderGrid, Dir Path: E:\\UnrealEngine-5.1.0-release\\Engine\\Plugins\\Experimental\\RenderGrid\n",
      "Node: ResonanceAudio, Dir Path: E:\\UnrealEngine-5.1.0-release\\Engine\\Plugins\\Runtime\\ResonanceAudio\n",
      "Node: RigLogic, Dir Path: E:\\UnrealEngine-5.1.0-release\\Engine\\Plugins\\Animation\\RigLogic\n",
      "Node: RuntimeTests, Dir Path: E:\\UnrealEngine-5.1.0-release\\Engine\\Plugins\\Tests\\RuntimeTests\n",
      "Node: ScriptPlugin, Dir Path: E:\\UnrealEngine-5.1.0-release\\Engine\\Plugins\\ScriptPlugin\n",
      "Node: SequencerPlaylists, Dir Path: E:\\UnrealEngine-5.1.0-release\\Engine\\Plugins\\VirtualProduction\\SequencerPlaylists\n",
      "Node: Shotgrid, Dir Path: E:\\UnrealEngine-5.1.0-release\\Engine\\Plugins\\Experimental\\Shotgrid\n",
      "Node: SkeletalMeshModelingTools, Dir Path: E:\\UnrealEngine-5.1.0-release\\Engine\\Plugins\\Experimental\\Animation\\SkeletalMeshModelingTools\n",
      "Node: SoundCueTemplates, Dir Path: E:\\UnrealEngine-5.1.0-release\\Engine\\Plugins\\Runtime\\SoundCueTemplates\n",
      "Node: SoundUtilities, Dir Path: E:\\UnrealEngine-5.1.0-release\\Engine\\Plugins\\Runtime\\SoundUtilities\n",
      "Node: Soundscape, Dir Path: E:\\UnrealEngine-5.1.0-release\\Engine\\Plugins\\Runtime\\Soundscape\n",
      "Node: Spatialization, Dir Path: E:\\UnrealEngine-5.1.0-release\\Engine\\Plugins\\Runtime\\Spatialization\n",
      "Node: SpeedTreeImporter, Dir Path: E:\\UnrealEngine-5.1.0-release\\Engine\\Plugins\\Editor\\SpeedTreeImporter\n",
      "Node: StageMonitoring, Dir Path: E:\\UnrealEngine-5.1.0-release\\Engine\\Plugins\\VirtualProduction\\StageMonitoring\n",
      "Node: SteamAudio, Dir Path: E:\\UnrealEngine-5.1.0-release\\Engine\\Plugins\\Runtime\\Steam\\SteamAudio\n",
      "Node: SteamController, Dir Path: E:\\UnrealEngine-5.1.0-release\\Engine\\Plugins\\Runtime\\Steam\\SteamController\n",
      "Node: SteamVR, Dir Path: E:\\UnrealEngine-5.1.0-release\\Engine\\Plugins\\Runtime\\Steam\\SteamVR\n",
      "Node: SubversionSourceControl, Dir Path: E:\\UnrealEngine-5.1.0-release\\Engine\\Plugins\\Developer\\SubversionSourceControl\n",
      "Node: Switchboard, Dir Path: E:\\UnrealEngine-5.1.0-release\\Engine\\Plugins\\VirtualProduction\\Switchboard\n",
      "Node: SwitchboardListener, Dir Path: E:\\UnrealEngine-5.1.0-release\\Engine\\Source\\Programs\\SwitchboardListener\n",
      "Node: Synthesis, Dir Path: E:\\UnrealEngine-5.1.0-release\\Engine\\Plugins\\Runtime\\Synthesis\n",
      "Node: TestSamples, Dir Path: E:\\UnrealEngine-5.1.0-release\\Engine\\Plugins\\Tests\\TestSamples\n",
      "Node: TimecodeSynchronizer, Dir Path: E:\\UnrealEngine-5.1.0-release\\Engine\\Plugins\\Media\\TimecodeSynchronizer\n",
      "Node: TimedDataMonitor, Dir Path: E:\\UnrealEngine-5.1.0-release\\Engine\\Plugins\\VirtualProduction\\TimedDataMonitor\n",
      "Node: UIFramework, Dir Path: E:\\UnrealEngine-5.1.0-release\\Engine\\Plugins\\Experimental\\UIFramework\n",
      "Node: UObjectPlugin, Dir Path: E:\\UnrealEngine-5.1.0-release\\Engine\\Plugins\\Developer\\UObjectPlugin\n",
      "Node: UVEditor, Dir Path: E:\\UnrealEngine-5.1.0-release\\Engine\\Plugins\\Experimental\\UVEditor\n",
      "Node: UnrealFrontend, Dir Path: E:\\UnrealEngine-5.1.0-release\\Engine\\Source\\Programs\\UnrealFrontend\n",
      "Node: UnrealMultiUserServer, Dir Path: E:\\UnrealEngine-5.1.0-release\\Engine\\Source\\Programs\\UnrealMultiUserServer\n",
      "Node: UnrealMultiUserSlateServer, Dir Path: E:\\UnrealEngine-5.1.0-release\\Engine\\Source\\Programs\\UnrealMultiUserSlateServer\n",
      "Node: UnrealVersionSelector, Dir Path: E:\\UnrealEngine-5.1.0-release\\Engine\\Source\\Programs\\UnrealVersionSelector\n",
      "Node: Unsync, Dir Path: E:\\UnrealEngine-5.1.0-release\\Engine\\Source\\Programs\\Unsync\n",
      "Node: VertexDeltaModel, Dir Path: E:\\UnrealEngine-5.1.0-release\\Engine\\Plugins\\Animation\\MLDeformer\\VertexDeltaModel\n",
      "Node: VirtualCamera, Dir Path: E:\\UnrealEngine-5.1.0-release\\Engine\\Plugins\\Experimental\\VirtualCamera\n",
      "Node: VirtualHeightfieldMesh, Dir Path: E:\\UnrealEngine-5.1.0-release\\Engine\\Plugins\\Experimental\\VirtualHeightfieldMesh\n",
      "Node: VisualStudioCodeSourceCodeAccess, Dir Path: E:\\UnrealEngine-5.1.0-release\\Engine\\Plugins\\Developer\\VisualStudioCodeSourceCodeAccess\n",
      "Node: WarpUtils, Dir Path: E:\\UnrealEngine-5.1.0-release\\Engine\\Plugins\\Runtime\\WarpUtils\n",
      "Node: WaveFunctionCollapse, Dir Path: E:\\UnrealEngine-5.1.0-release\\Engine\\Plugins\\Experimental\\WaveFunctionCollapse\n",
      "Node: WebBrowserWidget, Dir Path: E:\\UnrealEngine-5.1.0-release\\Engine\\Plugins\\Runtime\\WebBrowserWidget\n",
      "Node: WinDualShock, Dir Path: E:\\UnrealEngine-5.1.0-release\\Engine\\Plugins\\Runtime\\Windows\\WinDualShock\n",
      "Node: WindowsDeviceProfileSelector, Dir Path: E:\\UnrealEngine-5.1.0-release\\Engine\\Plugins\\Runtime\\WindowsDeviceProfileSelector\n",
      "Node: WindowsMoviePlayer, Dir Path: E:\\UnrealEngine-5.1.0-release\\Engine\\Plugins\\Runtime\\WindowsMoviePlayer\n",
      "Node: XcodeGPUDebuggerPlugin, Dir Path: E:\\UnrealEngine-5.1.0-release\\Engine\\Plugins\\Developer\\XcodeGPUDebuggerPlugin\n",
      "Node: llvm, Dir Path: E:\\UnrealEngine-5.1.0-release\\Engine\\Source\\ThirdParty\\llvm\n",
      "Node: mtlpp, Dir Path: E:\\UnrealEngine-5.1.0-release\\Engine\\Source\\ThirdParty\\mtlpp\n",
      "Node: rpclib, Dir Path: E:\\UnrealEngine-5.1.0-release\\Engine\\Source\\ThirdParty\\rpclib\n",
      "Node: vcpkg, Dir Path: E:\\UnrealEngine-5.1.0-release\\Engine\\Source\\ThirdParty\\vcpkg\n"
     ]
    }
   ],
   "source": [
    "recovered = fs.check_existence_and_print()"
   ]
  },
  {
   "cell_type": "code",
   "execution_count": 9,
   "id": "acb39bb4",
   "metadata": {},
   "outputs": [
    {
     "data": {
      "text/plain": [
       "186"
      ]
     },
     "execution_count": 9,
     "metadata": {},
     "output_type": "execute_result"
    }
   ],
   "source": [
    "len(recovered)"
   ]
  }
 ],
 "metadata": {
  "kernelspec": {
   "display_name": "Python 3 (ipykernel)",
   "language": "python",
   "name": "python3"
  },
  "language_info": {
   "codemirror_mode": {
    "name": "ipython",
    "version": 3
   },
   "file_extension": ".py",
   "mimetype": "text/x-python",
   "name": "python",
   "nbconvert_exporter": "python",
   "pygments_lexer": "ipython3",
   "version": "3.10.10"
  }
 },
 "nbformat": 4,
 "nbformat_minor": 5
}
